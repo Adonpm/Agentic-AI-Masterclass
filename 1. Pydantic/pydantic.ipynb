{
 "cells": [
  {
   "cell_type": "markdown",
   "id": "94f6cab3",
   "metadata": {},
   "source": [
    "# Pydantic Basics: Creating and Using Models\n",
    "\n",
    "Pydantic models are the foundation of data validation in Python.\n",
    "They use Python type annotations to define the structure and validate data at runtime."
   ]
  },
  {
   "cell_type": "code",
   "execution_count": 1,
   "id": "0f2902f1",
   "metadata": {},
   "outputs": [],
   "source": [
    "from dataclasses import dataclass\n",
    "\n",
    "@dataclass\n",
    "class Person():\n",
    "    name:str\n",
    "    age:int\n",
    "    city:str"
   ]
  },
  {
   "cell_type": "code",
   "execution_count": 2,
   "id": "512f8a31",
   "metadata": {},
   "outputs": [
    {
     "name": "stdout",
     "output_type": "stream",
     "text": [
      "Person(name='Adon', age=26, city='Nilambur')\n"
     ]
    }
   ],
   "source": [
    "# Initialising class Person\n",
    "person = Person(name='Adon', age=26, city=\"Nilambur\")\n",
    "print(person)"
   ]
  },
  {
   "cell_type": "code",
   "execution_count": 3,
   "id": "560941cf",
   "metadata": {},
   "outputs": [
    {
     "name": "stdout",
     "output_type": "stream",
     "text": [
      "Person(name='Adon', age=26, city=35)\n"
     ]
    }
   ],
   "source": [
    "person = Person(name='Adon', age=26, city=35)\n",
    "print(person)"
   ]
  },
  {
   "cell_type": "code",
   "execution_count": 5,
   "id": "4ad5a8ca",
   "metadata": {},
   "outputs": [
    {
     "name": "stdout",
     "output_type": "stream",
     "text": [
      "name='Adon' age=26 city='Nilambur'\n"
     ]
    }
   ],
   "source": [
    "# PYDANTIC (to do data validation)\n",
    "from pydantic import BaseModel\n",
    "\n",
    "class Person1(BaseModel):\n",
    "    name:str\n",
    "    age:int\n",
    "    city:str\n",
    "\n",
    "person1=Person1(name=\"Adon\", age=26, city=\"Nilambur\")\n",
    "print(person1)"
   ]
  },
  {
   "cell_type": "code",
   "execution_count": 6,
   "id": "1fb33496",
   "metadata": {},
   "outputs": [
    {
     "ename": "ValidationError",
     "evalue": "1 validation error for Person1\ncity\n  Input should be a valid string [type=string_type, input_value=335, input_type=int]\n    For further information visit https://errors.pydantic.dev/2.11/v/string_type",
     "output_type": "error",
     "traceback": [
      "\u001b[31m---------------------------------------------------------------------------\u001b[39m",
      "\u001b[31mValidationError\u001b[39m                           Traceback (most recent call last)",
      "\u001b[36mCell\u001b[39m\u001b[36m \u001b[39m\u001b[32mIn[6]\u001b[39m\u001b[32m, line 1\u001b[39m\n\u001b[32m----> \u001b[39m\u001b[32m1\u001b[39m person2=\u001b[43mPerson1\u001b[49m\u001b[43m(\u001b[49m\u001b[43mname\u001b[49m\u001b[43m=\u001b[49m\u001b[33;43m\"\u001b[39;49m\u001b[33;43mAdon\u001b[39;49m\u001b[33;43m\"\u001b[39;49m\u001b[43m,\u001b[49m\u001b[43m \u001b[49m\u001b[43mage\u001b[49m\u001b[43m=\u001b[49m\u001b[32;43m26\u001b[39;49m\u001b[43m,\u001b[49m\u001b[43m \u001b[49m\u001b[43mcity\u001b[49m\u001b[43m=\u001b[49m\u001b[32;43m335\u001b[39;49m\u001b[43m)\u001b[49m\n\u001b[32m      2\u001b[39m \u001b[38;5;28mprint\u001b[39m(person2)\n",
      "\u001b[36mFile \u001b[39m\u001b[32mc:\\Dev\\Personal Projects\\Agentic AI Masterclass\\4. Pydantic\\venv\\Lib\\site-packages\\pydantic\\main.py:253\u001b[39m, in \u001b[36mBaseModel.__init__\u001b[39m\u001b[34m(self, **data)\u001b[39m\n\u001b[32m    251\u001b[39m \u001b[38;5;66;03m# `__tracebackhide__` tells pytest and some other tools to omit this function from tracebacks\u001b[39;00m\n\u001b[32m    252\u001b[39m __tracebackhide__ = \u001b[38;5;28;01mTrue\u001b[39;00m\n\u001b[32m--> \u001b[39m\u001b[32m253\u001b[39m validated_self = \u001b[38;5;28;43mself\u001b[39;49m\u001b[43m.\u001b[49m\u001b[43m__pydantic_validator__\u001b[49m\u001b[43m.\u001b[49m\u001b[43mvalidate_python\u001b[49m\u001b[43m(\u001b[49m\u001b[43mdata\u001b[49m\u001b[43m,\u001b[49m\u001b[43m \u001b[49m\u001b[43mself_instance\u001b[49m\u001b[43m=\u001b[49m\u001b[38;5;28;43mself\u001b[39;49m\u001b[43m)\u001b[49m\n\u001b[32m    254\u001b[39m \u001b[38;5;28;01mif\u001b[39;00m \u001b[38;5;28mself\u001b[39m \u001b[38;5;129;01mis\u001b[39;00m \u001b[38;5;129;01mnot\u001b[39;00m validated_self:\n\u001b[32m    255\u001b[39m     warnings.warn(\n\u001b[32m    256\u001b[39m         \u001b[33m'\u001b[39m\u001b[33mA custom validator is returning a value other than `self`.\u001b[39m\u001b[38;5;130;01m\\n\u001b[39;00m\u001b[33m'\u001b[39m\n\u001b[32m    257\u001b[39m         \u001b[33m\"\u001b[39m\u001b[33mReturning anything other than `self` from a top level model validator isn\u001b[39m\u001b[33m'\u001b[39m\u001b[33mt supported when validating via `__init__`.\u001b[39m\u001b[38;5;130;01m\\n\u001b[39;00m\u001b[33m\"\u001b[39m\n\u001b[32m    258\u001b[39m         \u001b[33m'\u001b[39m\u001b[33mSee the `model_validator` docs (https://docs.pydantic.dev/latest/concepts/validators/#model-validators) for more details.\u001b[39m\u001b[33m'\u001b[39m,\n\u001b[32m    259\u001b[39m         stacklevel=\u001b[32m2\u001b[39m,\n\u001b[32m    260\u001b[39m     )\n",
      "\u001b[31mValidationError\u001b[39m: 1 validation error for Person1\ncity\n  Input should be a valid string [type=string_type, input_value=335, input_type=int]\n    For further information visit https://errors.pydantic.dev/2.11/v/string_type"
     ]
    }
   ],
   "source": [
    "person2=Person1(name=\"Adon\", age=26, city=335)\n",
    "print(person2)"
   ]
  },
  {
   "cell_type": "markdown",
   "id": "4f201fce",
   "metadata": {},
   "source": [
    "## 2. Model with Optional Fields\n",
    "\n",
    "Add optional fields using Pythons Optional type:"
   ]
  },
  {
   "cell_type": "code",
   "execution_count": 8,
   "id": "91c2e127",
   "metadata": {},
   "outputs": [],
   "source": [
    "from typing import Optional\n",
    "\n",
    "class Employee(BaseModel):\n",
    "    id:int\n",
    "    name:str\n",
    "    department:str\n",
    "    salary:Optional[float]=None # Salary as optional with float dtype and default value as None\n",
    "    is_active:Optional[bool]=True # Optional with default value"
   ]
  },
  {
   "cell_type": "code",
   "execution_count": 11,
   "id": "7919a6ea",
   "metadata": {},
   "outputs": [
    {
     "name": "stdout",
     "output_type": "stream",
     "text": [
      "id=1 name='Ajay' department='CS' salary=None is_active=True\n"
     ]
    }
   ],
   "source": [
    "employee1 = Employee(id=1, name=\"Ajay\", department=\"CS\")\n",
    "print(employee1)"
   ]
  },
  {
   "cell_type": "code",
   "execution_count": 13,
   "id": "9017467c",
   "metadata": {},
   "outputs": [
    {
     "name": "stdout",
     "output_type": "stream",
     "text": [
      "id=2 name='Arun' department='CS' salary=80000.0 is_active=True\n"
     ]
    }
   ],
   "source": [
    "employee2 = Employee(id=2, name=\"Arun\", department=\"CS\", salary=\"80000\")\n",
    "print(employee2)"
   ]
  },
  {
   "cell_type": "markdown",
   "id": "21917998",
   "metadata": {},
   "source": [
    "## 3. Adding list as dtype"
   ]
  },
  {
   "cell_type": "code",
   "execution_count": 14,
   "id": "425715f4",
   "metadata": {},
   "outputs": [],
   "source": [
    "# Adding list as dtype\n",
    "from typing import List\n",
    "\n",
    "class Classromm(BaseModel):\n",
    "    room_number:str\n",
    "    students:List[str] #List of strings\n",
    "    capacity:int"
   ]
  },
  {
   "cell_type": "code",
   "execution_count": 17,
   "id": "a754926c",
   "metadata": {},
   "outputs": [
    {
     "name": "stdout",
     "output_type": "stream",
     "text": [
      "room_number='A100' students=['Adon', 'Arun', 'Saju'] capacity=30\n"
     ]
    }
   ],
   "source": [
    "classroom1 = Classromm(\n",
    "    room_number=\"A100\",\n",
    "    students=(\"Adon\",\"Arun\",\"Saju\"), #Give tuple instead of list\n",
    "    capacity=30\n",
    ")\n",
    "\n",
    "print(classroom1)"
   ]
  },
  {
   "cell_type": "markdown",
   "id": "7ae6eba0",
   "metadata": {},
   "source": [
    "## 4. Nested Models"
   ]
  },
  {
   "cell_type": "code",
   "execution_count": 21,
   "id": "5698189b",
   "metadata": {},
   "outputs": [],
   "source": [
    "class Address(BaseModel):\n",
    "    street:str\n",
    "    city:str\n",
    "    zip_code:int\n",
    "\n",
    "class Customer(BaseModel):\n",
    "    customer_id:int\n",
    "    name:str\n",
    "    address:Address # Nested Model"
   ]
  },
  {
   "cell_type": "code",
   "execution_count": 23,
   "id": "dc33e866",
   "metadata": {},
   "outputs": [
    {
     "name": "stdout",
     "output_type": "stream",
     "text": [
      "customer_id=1 name='Adon' address=Address(street='Manimooli', city='Nilambur', zip_code=679333)\n"
     ]
    }
   ],
   "source": [
    "customer=Customer(\n",
    "    customer_id=1,\n",
    "    name=\"Adon\",\n",
    "    address={\"street\":\"Manimooli\", \"city\": \"Nilambur\", \"zip_code\": 679333}\n",
    ")\n",
    "\n",
    "print(customer)"
   ]
  },
  {
   "cell_type": "markdown",
   "id": "996e34de",
   "metadata": {},
   "source": [
    "## 4. Pydantic Fields: Customization & Constraints"
   ]
  },
  {
   "cell_type": "code",
   "execution_count": 26,
   "id": "c2b56c3c",
   "metadata": {},
   "outputs": [
    {
     "name": "stdout",
     "output_type": "stream",
     "text": [
      "name='Books' price=10.0 quantity=3\n"
     ]
    }
   ],
   "source": [
    "from pydantic import BaseModel, Field\n",
    "\n",
    "class Item(BaseModel):\n",
    "    name:str=Field(min_length=2, max_length=10)\n",
    "    price:float=Field(gt=0, le=1000) #greater than 0 & less than or equal to 1000\n",
    "    quantity:int=Field(ge=0)\n",
    "\n",
    "item1 = Item(name=\"Books\", price=10, quantity=3)\n",
    "print(item1)"
   ]
  },
  {
   "cell_type": "code",
   "execution_count": 28,
   "id": "bf06ca07",
   "metadata": {},
   "outputs": [
    {
     "name": "stdout",
     "output_type": "stream",
     "text": [
      "1 validation error for Item\n",
      "price\n",
      "  Input should be less than or equal to 1000 [type=less_than_equal, input_value=10000000, input_type=int]\n",
      "    For further information visit https://errors.pydantic.dev/2.11/v/less_than_equal\n"
     ]
    }
   ],
   "source": [
    "try: \n",
    "    item2 = Item(name=\"Books\", price=10000000, quantity=3)\n",
    "    print(item2)\n",
    "except Exception as e:\n",
    "    print(e)"
   ]
  },
  {
   "cell_type": "code",
   "execution_count": 36,
   "id": "4f0d5269",
   "metadata": {},
   "outputs": [],
   "source": [
    "class User(BaseModel):\n",
    "    username:str=Field(description=\"Unique username for the user\")\n",
    "    age:int=Field(default=18, description=\"Age of the user\")\n",
    "    email:str=Field(default_factory=lambda: \"user@example.com\", description=\"Default email address\")"
   ]
  },
  {
   "cell_type": "code",
   "execution_count": 37,
   "id": "64df79f9",
   "metadata": {},
   "outputs": [
    {
     "name": "stdout",
     "output_type": "stream",
     "text": [
      "username='Adon' age=18 email='user@example.com'\n"
     ]
    }
   ],
   "source": [
    "user1 = User(username=\"Adon\")\n",
    "print(user1)"
   ]
  },
  {
   "cell_type": "code",
   "execution_count": 38,
   "id": "800e7efc",
   "metadata": {},
   "outputs": [
    {
     "name": "stdout",
     "output_type": "stream",
     "text": [
      "username='Bob' age=25 email='bob@gmail.com'\n"
     ]
    }
   ],
   "source": [
    "user2 = User(username=\"Bob\", age=25, email=\"bob@gmail.com\")\n",
    "print(user2)"
   ]
  },
  {
   "cell_type": "code",
   "execution_count": 40,
   "id": "03e8ec85",
   "metadata": {},
   "outputs": [
    {
     "data": {
      "text/plain": [
       "{'properties': {'username': {'description': 'Unique username for the user',\n",
       "   'title': 'Username',\n",
       "   'type': 'string'},\n",
       "  'age': {'default': 18,\n",
       "   'description': 'Age of the user',\n",
       "   'title': 'Age',\n",
       "   'type': 'integer'},\n",
       "  'email': {'description': 'Default email address',\n",
       "   'title': 'Email',\n",
       "   'type': 'string'}},\n",
       " 'required': ['username'],\n",
       " 'title': 'User',\n",
       " 'type': 'object'}"
      ]
     },
     "execution_count": 40,
     "metadata": {},
     "output_type": "execute_result"
    }
   ],
   "source": [
    "User.model_json_schema() # To get the JSON schema of the model"
   ]
  },
  {
   "cell_type": "code",
   "execution_count": null,
   "id": "3dc147ac",
   "metadata": {},
   "outputs": [],
   "source": []
  }
 ],
 "metadata": {
  "kernelspec": {
   "display_name": "venv",
   "language": "python",
   "name": "python3"
  },
  "language_info": {
   "codemirror_mode": {
    "name": "ipython",
    "version": 3
   },
   "file_extension": ".py",
   "mimetype": "text/x-python",
   "name": "python",
   "nbconvert_exporter": "python",
   "pygments_lexer": "ipython3",
   "version": "3.13.2"
  }
 },
 "nbformat": 4,
 "nbformat_minor": 5
}
